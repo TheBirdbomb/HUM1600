{
  "nbformat": 4,
  "nbformat_minor": 0,
  "metadata": {
    "colab": {
      "provenance": [],
      "authorship_tag": "ABX9TyNHd0mfSLFOdvxT2KOc4McF",
      "include_colab_link": true
    },
    "kernelspec": {
      "name": "python3",
      "display_name": "Python 3"
    },
    "language_info": {
      "name": "python"
    }
  },
  "cells": [
    {
      "cell_type": "markdown",
      "metadata": {
        "id": "view-in-github",
        "colab_type": "text"
      },
      "source": [
        "<a href=\"https://colab.research.google.com/github/TheBirdbomb/HUM1600/blob/main/Practice.ipynb\" target=\"_parent\"><img src=\"https://colab.research.google.com/assets/colab-badge.svg\" alt=\"Open In Colab\"/></a>"
      ]
    },
    {
      "cell_type": "code",
      "source": [
        "size = input(\"Enter pattern size: \")\n",
        "while type(size) == str:\n",
        "  try:\n",
        "    size = int(size)\n",
        "  except:\n",
        "    try:\n",
        "      size = float(size)\n",
        "      print(\"Size must not have a decimal!\")\n",
        "      size = input(\"Enter pattern size: \")\n",
        "    except:\n",
        "      print(\"Size must be a number!\")\n",
        "      size = input(\"Enter pattern size: \")\n",
        "for row in range(size + 1):\n",
        "  for c in range(size + 1 - row):\n",
        "    print(\"   \", end=\"\")\n",
        "  for d in range(row + 1):\n",
        "    print(\"_|^^|_\", end=\"\")\n",
        "  print()"
      ],
      "metadata": {
        "colab": {
          "base_uri": "https://localhost:8080/"
        },
        "id": "6gXMRfouq89X",
        "outputId": "b2edf742-3edb-40df-ea11-89a670944a96"
      },
      "execution_count": null,
      "outputs": [
        {
          "output_type": "stream",
          "name": "stdout",
          "text": [
            "Enter pattern size: 10\n",
            "                                 _|^^|_\n",
            "                              _|^^|__|^^|_\n",
            "                           _|^^|__|^^|__|^^|_\n",
            "                        _|^^|__|^^|__|^^|__|^^|_\n",
            "                     _|^^|__|^^|__|^^|__|^^|__|^^|_\n",
            "                  _|^^|__|^^|__|^^|__|^^|__|^^|__|^^|_\n",
            "               _|^^|__|^^|__|^^|__|^^|__|^^|__|^^|__|^^|_\n",
            "            _|^^|__|^^|__|^^|__|^^|__|^^|__|^^|__|^^|__|^^|_\n",
            "         _|^^|__|^^|__|^^|__|^^|__|^^|__|^^|__|^^|__|^^|__|^^|_\n",
            "      _|^^|__|^^|__|^^|__|^^|__|^^|__|^^|__|^^|__|^^|__|^^|__|^^|_\n",
            "   _|^^|__|^^|__|^^|__|^^|__|^^|__|^^|__|^^|__|^^|__|^^|__|^^|__|^^|_\n"
          ]
        }
      ]
    },
    {
      "cell_type": "code",
      "source": [
        "base = int(input(\"Select the base: \"))\n",
        "exponent = int(input(\"Select the exponent: \"))\n",
        "x = 1\n",
        "\n",
        "for _ in range(exponent):\n",
        "  x = x * base\n",
        "print(x)\n",
        "\n"
      ],
      "metadata": {
        "colab": {
          "base_uri": "https://localhost:8080/"
        },
        "id": "bkNFpMQasmOb",
        "outputId": "fac5fbff-008d-4d75-87a4-73b14649cfbe"
      },
      "execution_count": null,
      "outputs": [
        {
          "output_type": "stream",
          "name": "stdout",
          "text": [
            "Select the base: 4\n",
            "Select the exponent: 5\n",
            "1024\n"
          ]
        }
      ]
    },
    {
      "cell_type": "code",
      "source": [
        "def rand3(x,y=None,z=None):\n",
        "  import random\n",
        "  r = []\n",
        "  if y==None:\n",
        "    for _ in range(3):\n",
        "      r.append(random.randint(1,x))\n",
        "  else:\n",
        "    for _ in range(3):\n",
        "      r.append(random.randint(x,y))\n",
        "  if z==\"True\" or z==1:\n",
        "    if r[0]==r[1]:\n",
        "      r[1]+=1\n",
        "    if r[0]==r[2]:\n",
        "      r[2]+=1\n",
        "    if r[1]==r[2]:\n",
        "      r[2]+=1\n",
        "    if r[0]==r[2]:\n",
        "      r[2]+=1\n",
        "  return r\n",
        "\n",
        "for _ in range(5):\n",
        "  print(rand3(1,20,1))\n",
        "\n"
      ],
      "metadata": {
        "id": "VE9eIflsaaGv",
        "colab": {
          "base_uri": "https://localhost:8080/"
        },
        "outputId": "8e54f99e-4ac0-4a4c-f166-bd414f43b563"
      },
      "execution_count": null,
      "outputs": [
        {
          "output_type": "stream",
          "name": "stdout",
          "text": [
            "[16, 17, 1]\n",
            "[19, 9, 17]\n",
            "[1, 20, 6]\n",
            "[20, 15, 6]\n",
            "[15, 12, 17]\n"
          ]
        }
      ]
    },
    {
      "cell_type": "code",
      "source": [
        "str = \"Number is {}\"\n",
        "for x in range(5):\n",
        "  print(str.format(x))"
      ],
      "metadata": {
        "colab": {
          "base_uri": "https://localhost:8080/"
        },
        "id": "x4UmZ-uFfr75",
        "outputId": "668dbdfb-776c-4c6c-dd81-8f3579ef49ca"
      },
      "execution_count": null,
      "outputs": [
        {
          "output_type": "stream",
          "name": "stdout",
          "text": [
            "Number is 0\n",
            "Number is 1\n",
            "Number is 2\n",
            "Number is 3\n",
            "Number is 4\n"
          ]
        }
      ]
    },
    {
      "cell_type": "code",
      "source": [
        "def isfloat(x):\n",
        "  try:\n",
        "    x = float(x)\n",
        "    return True\n",
        "  except:\n",
        "    return False\n",
        "\n",
        "x = input(\"Enter test info: \")\n",
        "print(isfloat(x))\n"
      ],
      "metadata": {
        "colab": {
          "base_uri": "https://localhost:8080/"
        },
        "id": "pU4mzWiWqqLS",
        "outputId": "047d3654-8406-4126-f58e-f00ff0aba891"
      },
      "execution_count": null,
      "outputs": [
        {
          "output_type": "stream",
          "name": "stdout",
          "text": [
            "Enter test info: 9\n",
            "True\n"
          ]
        }
      ]
    },
    {
      "cell_type": "code",
      "source": [
        "def valid_num(x):\n",
        "  try:\n",
        "    x = int(x)\n",
        "    return type(x)\n",
        "  except:\n",
        "    try:\n",
        "      x = float(x)\n",
        "      return type(x)\n",
        "    except:\n",
        "      return \"Not a number\"\n",
        "\n",
        "print(valid_num(input(\"Enter a number: \")))"
      ],
      "metadata": {
        "colab": {
          "base_uri": "https://localhost:8080/"
        },
        "id": "mHz2oG841bQ5",
        "outputId": "3caa92fa-92a2-4cca-e861-615fd6755931"
      },
      "execution_count": null,
      "outputs": [
        {
          "output_type": "stream",
          "name": "stdout",
          "text": [
            "Enter a number: 652\n",
            "<class 'int'>\n"
          ]
        }
      ]
    },
    {
      "cell_type": "code",
      "source": [
        "def addname(name,list):\n",
        "  list.append(name)\n",
        "  return list\n",
        "namelist = [\"Bob\",\"Jack\",\"Mary\"]\n",
        "for x in range(int(input(\"How many names do you wish to add: \"))):\n",
        "  namelist = addname(input(\"Enter student name: \"),namelist)\n",
        "  print(namelist)"
      ],
      "metadata": {
        "colab": {
          "base_uri": "https://localhost:8080/"
        },
        "id": "tOmaPwT4ii6K",
        "outputId": "87245466-18f4-4924-c437-bd4cde2c98fc"
      },
      "execution_count": null,
      "outputs": [
        {
          "output_type": "stream",
          "name": "stdout",
          "text": [
            "How many names do you wish to add: 3\n",
            "Enter student name: Leo\n",
            "['Bob', 'Jack', 'Mary', 'Leo']\n",
            "Enter student name: Alice\n",
            "['Bob', 'Jack', 'Mary', 'Leo', 'Alice']\n",
            "Enter student name: Carol\n",
            "['Bob', 'Jack', 'Mary', 'Leo', 'Alice', 'Carol']\n"
          ]
        }
      ]
    },
    {
      "cell_type": "code",
      "source": [
        "def email_maker(name):\n",
        "  return name + \"@utah.edu\"\n",
        "\n",
        "def emails_for_list(list):\n",
        "  for name in list:\n",
        "    print(email_maker(name))\n",
        "\n",
        "name_list = ['Bob', 'Jack', 'Mary', 'Leo', 'Alice', 'Carol']\n",
        "\n",
        "emails_for_list(name_list)"
      ],
      "metadata": {
        "colab": {
          "base_uri": "https://localhost:8080/"
        },
        "id": "lFxp0BeDkQfL",
        "outputId": "64df9694-72a0-4c2d-bf68-a2516efe6f49"
      },
      "execution_count": null,
      "outputs": [
        {
          "output_type": "stream",
          "name": "stdout",
          "text": [
            "Bob@utah.edu\n",
            "Jack@utah.edu\n",
            "Mary@utah.edu\n",
            "Leo@utah.edu\n",
            "Alice@utah.edu\n",
            "Carol@utah.edu\n"
          ]
        }
      ]
    },
    {
      "cell_type": "code",
      "source": [
        "def sumlist(list):\n",
        "  x = 0\n",
        "  for y in list:\n",
        "    x += y\n",
        "  return x\n",
        "\n",
        "def numlist(length):\n",
        "  import random\n",
        "  list = []\n",
        "  for x in range(length):\n",
        "    list.append(random.randint(1,30))\n",
        "  list.sort()\n",
        "  print(list)\n",
        "  return list\n",
        "\n",
        "print(sumlist(numlist(8)))\n"
      ],
      "metadata": {
        "colab": {
          "base_uri": "https://localhost:8080/"
        },
        "id": "FlRtJsIRmAIy",
        "outputId": "15c330b2-4601-4813-b9c9-d1a73a397151"
      },
      "execution_count": null,
      "outputs": [
        {
          "output_type": "stream",
          "name": "stdout",
          "text": [
            "[1, 13, 14, 18, 19, 21, 22, 23]\n",
            "131\n"
          ]
        }
      ]
    },
    {
      "cell_type": "code",
      "source": [
        "string = \"Hello to all the worldly people.\"\n",
        "split = string.split(\" \")\n",
        "print(split)"
      ],
      "metadata": {
        "id": "y49-TLmiAToG",
        "colab": {
          "base_uri": "https://localhost:8080/"
        },
        "outputId": "bb3084be-33dc-49ca-97f6-9413662e5ff1"
      },
      "execution_count": null,
      "outputs": [
        {
          "output_type": "stream",
          "name": "stdout",
          "text": [
            "['Hello', 'to', 'all', 'the', 'worldly', 'people.']\n"
          ]
        }
      ]
    },
    {
      "cell_type": "code",
      "source": [
        "file = open('practice','w')\n",
        "file.write(\"Testing 1,2,3\\nIs this working?\")\n",
        "file.close\n",
        "file = open('practice','r')\n",
        "print(file.read())\n"
      ],
      "metadata": {
        "colab": {
          "base_uri": "https://localhost:8080/"
        },
        "id": "a0ioohojZVly",
        "outputId": "4f9f1f93-1c74-43ca-ebca-ea9d326ab4c4"
      },
      "execution_count": null,
      "outputs": [
        {
          "output_type": "stream",
          "name": "stdout",
          "text": [
            "Testing 1,2,3\n",
            "Is this working?\n"
          ]
        }
      ]
    },
    {
      "cell_type": "code",
      "source": [
        "def create_file(filename,string = \"\"):\n",
        "  f = open(filename,'w')\n",
        "  f.write(string)\n",
        "  f.close\n",
        "\n",
        "def add_file(filename,string,spaces=1):\n",
        "  f = open(filename,'a')\n",
        "  if spaces == 0:\n",
        "    f.write(\" \" + string)\n",
        "  else:\n",
        "    f.write(('\\n' * spaces) + string)\n",
        "  f.close\n",
        "\n",
        "def read_file(filename):\n",
        "  f = open(filename,'r')\n",
        "  print(f.read())\n",
        "  f.close\n",
        "\n",
        "create_file('Test1','Testing file functions!')\n",
        "read_file('Test1')\n",
        "print()\n",
        "add_file('Test1','Adding line, re-testing!')\n",
        "read_file('Test1')"
      ],
      "metadata": {
        "colab": {
          "base_uri": "https://localhost:8080/"
        },
        "id": "0Wk68lmBcTte",
        "outputId": "f0d340ea-f773-4c5c-ab66-ba6f94a88ef0"
      },
      "execution_count": null,
      "outputs": [
        {
          "output_type": "stream",
          "name": "stdout",
          "text": [
            "Testing file functions!\n",
            "\n",
            "Testing file functions!\n",
            "Adding line, re-testing!\n"
          ]
        }
      ]
    },
    {
      "cell_type": "code",
      "source": [
        "def rand5(z=0):\n",
        "  import random\n",
        "  list = [0,0,0,0,0]\n",
        "  while list[0]==list[1] or list[0]==list[2] or list[0]==list[3] or list[0]==list[4] or list[1]==list[2] or list[1]==list[3] or list[1]==list[4] or list[2]==list[3] or list[2]==list[4] or list[3]==list[4]:\n",
        "    list.clear()\n",
        "    for x in range(5):\n",
        "      list.append(random.randint(1,20))\n",
        "  if z == 1:\n",
        "    list.sort()\n",
        "  elif z == -1:\n",
        "    list.sort()\n",
        "    list.reverse()\n",
        "  return list\n",
        "\n",
        "print(rand5())\n",
        "print(rand5(1))\n",
        "print(rand5(-1))\n"
      ],
      "metadata": {
        "colab": {
          "base_uri": "https://localhost:8080/"
        },
        "id": "4-Bib94NwDOV",
        "outputId": "e9064e20-4da5-4ea4-91e0-b1a116edad31"
      },
      "execution_count": null,
      "outputs": [
        {
          "output_type": "stream",
          "name": "stdout",
          "text": [
            "[12, 6, 5, 13, 2]\n",
            "[4, 8, 11, 17, 18]\n",
            "[16, 12, 6, 5, 2]\n"
          ]
        }
      ]
    },
    {
      "cell_type": "code",
      "source": [
        "def zipper(L1,L2):\n",
        "  if len(L1) == len(L2):\n",
        "    new_list = []\n",
        "    for z in range(len(L1)):\n",
        "      new_list.append(L1[z])\n",
        "      new_list.append(L2[z])\n",
        "    return new_list\n",
        "  else:\n",
        "    return \"The two lists must be the same length to zip.\"\n",
        "\n",
        "list1 = [1,2,3,4]\n",
        "list2 = [5,6,7,8]\n",
        "\n",
        "print(zipper(list1,list2))"
      ],
      "metadata": {
        "colab": {
          "base_uri": "https://localhost:8080/"
        },
        "id": "F1sO4RVqevW2",
        "outputId": "599d7c5e-7176-423f-f077-cb075f89ea0f"
      },
      "execution_count": null,
      "outputs": [
        {
          "output_type": "stream",
          "name": "stdout",
          "text": [
            "[1, 5, 2, 6, 3, 7, 4, 8]\n"
          ]
        }
      ]
    },
    {
      "cell_type": "code",
      "source": [
        "import random\n",
        "scores = []\n",
        "for x in range(10):\n",
        "  scores.append(random.randint(40,100))\n",
        "count = 0\n",
        "for score in scores:\n",
        "  if score >= 60:\n",
        "    count += 1\n",
        "scores.sort()\n",
        "scores.reverse()\n",
        "print(scores)\n",
        "print(\"{} students passed, {} students failed.\".format(count,10-count))"
      ],
      "metadata": {
        "colab": {
          "base_uri": "https://localhost:8080/"
        },
        "id": "ekf5WeujO5Sn",
        "outputId": "84845761-da96-4dd9-a9be-295091a0f97f"
      },
      "execution_count": null,
      "outputs": [
        {
          "output_type": "stream",
          "name": "stdout",
          "text": [
            "[99, 88, 85, 78, 76, 76, 72, 65, 58, 42]\n",
            "8 students passed, 2 students failed.\n"
          ]
        }
      ]
    },
    {
      "cell_type": "code",
      "source": [
        "def string_split(list):\n",
        "  num_list = []\n",
        "  str_list = []\n",
        "  for ele in list:\n",
        "    if str(ele).isdigit():  # isdigit must be used on a string\n",
        "      num_list.append(ele)\n",
        "    else:\n",
        "      str_list.append(ele)\n",
        "  print(num_list)\n",
        "  print(str_list)\n",
        "\n",
        "test_list = [\"abc\", 60, 12, \"hello\", \"world\", 90]\n",
        "string_split(test_list)"
      ],
      "metadata": {
        "colab": {
          "base_uri": "https://localhost:8080/"
        },
        "id": "zCcw68fBZLmP",
        "outputId": "4996b30b-976a-4e93-a65c-bf9095551fd3"
      },
      "execution_count": null,
      "outputs": [
        {
          "output_type": "stream",
          "name": "stdout",
          "text": [
            "[60, 12, 90]\n",
            "['abc', 'hello', 'world']\n"
          ]
        }
      ]
    },
    {
      "cell_type": "code",
      "source": [
        "def chk_bigger(x,y):\n",
        "  if x > y:\n",
        "    print(\"{} is bigger!\".format(x))\n",
        "  elif x < y:\n",
        "    print(\"{} is bigger!\".format(y))\n",
        "  else:\n",
        "    print(\"They are the same.\")\n",
        "\n",
        "chk_bigger(5,3)\n",
        "chk_bigger(4,9)\n",
        "chk_bigger(6,6)"
      ],
      "metadata": {
        "id": "0utu2QB0tVTe",
        "colab": {
          "base_uri": "https://localhost:8080/"
        },
        "outputId": "f1c589d5-7e2b-426d-be7d-3c4a74e148c2"
      },
      "execution_count": null,
      "outputs": [
        {
          "output_type": "stream",
          "name": "stdout",
          "text": [
            "5 is bigger!\n",
            "9 is bigger!\n",
            "They are the same.\n"
          ]
        }
      ]
    },
    {
      "cell_type": "code",
      "source": [
        "def cost_mi(miles):\n",
        "  cost = 10\n",
        "  if miles < 5:\n",
        "    print(\"${}\".format(cost))\n",
        "  elif miles < 50:\n",
        "    cost += (miles * .6)\n",
        "    print(\"${}\".format(cost))\n",
        "  elif miles < 100:\n",
        "    cost = 40 + miles\n",
        "    print(\"${}\".format(cost))\n",
        "  else:\n",
        "    print(\"No Ride.\")\n",
        "\n",
        "cost_mi(3)\n",
        "cost_mi(28)\n",
        "cost_mi(68)\n",
        "cost_mi(112)"
      ],
      "metadata": {
        "colab": {
          "base_uri": "https://localhost:8080/"
        },
        "id": "uDkzE5mmrLkE",
        "outputId": "30e87991-1f4a-49cc-dc8e-6ea420988680"
      },
      "execution_count": null,
      "outputs": [
        {
          "output_type": "stream",
          "name": "stdout",
          "text": [
            "$10\n",
            "$26.8\n",
            "$108\n",
            "No Ride.\n"
          ]
        }
      ]
    },
    {
      "cell_type": "code",
      "source": [
        "def in_list(str,lst):\n",
        "  for s in lst:\n",
        "    if str in s:\n",
        "      return True\n",
        "  return False\n",
        "\n",
        "animals = [\"cat\", \"dog\", \"pig\", \"cow\"]\n",
        "print(in_list(\"crow\",animals))"
      ],
      "metadata": {
        "colab": {
          "base_uri": "https://localhost:8080/"
        },
        "id": "Oj-GdLLxLcVp",
        "outputId": "0d5a3c90-2cd2-455c-9e85-79525e238f1d"
      },
      "execution_count": null,
      "outputs": [
        {
          "output_type": "stream",
          "name": "stdout",
          "text": [
            "False\n"
          ]
        }
      ]
    },
    {
      "cell_type": "code",
      "source": [
        "def temp_conv(temp_F,scale):\n",
        "  if scale == \"C\":\n",
        "    temp_C = (temp_F - 32) * 5/9\n",
        "    return temp_C\n",
        "  elif scale == \"K\":\n",
        "    temp_K = (temp_F - 32) * 5/9 + 273.15\n",
        "    return temp_K\n",
        "  else:\n",
        "    print(\"Invalid scale, enter only 'C' or 'K'\")\n",
        "    return 0\n",
        "\n",
        "print(temp_conv(80,\"C\"))\n",
        "print(temp_conv(80,\"K\"))\n",
        "print(temp_conv(80,\"J\"))"
      ],
      "metadata": {
        "id": "B8ZoWb4RP0_k",
        "colab": {
          "base_uri": "https://localhost:8080/"
        },
        "outputId": "d56c2541-cd5f-47ed-b21d-72caee65726e"
      },
      "execution_count": null,
      "outputs": [
        {
          "output_type": "stream",
          "name": "stdout",
          "text": [
            "26.666666666666668\n",
            "299.81666666666666\n",
            "Invalid scale, enter only 'C' or 'K'\n",
            "0\n"
          ]
        }
      ]
    },
    {
      "cell_type": "code",
      "source": [
        "def str_lst_len(str_lst):\n",
        "  len_lst = []\n",
        "  for ele in str_lst:\n",
        "    len_lst.append(len(ele))\n",
        "  return len_lst\n",
        "\n",
        "def str_lst_rev(str_lst):\n",
        "  rev_lst = []\n",
        "  for str in str_lst:\n",
        "    rev = \"\"\n",
        "    for char in str:\n",
        "      rev = char + rev\n",
        "    rev_lst.append(rev)\n",
        "  return rev_lst\n",
        "\n",
        "str_list = [\"hello\",\"\",\"goodbye\",\"wonderful\"]\n",
        "print(str_lst_len(str_list))\n",
        "print(str_lst_rev(str_list))"
      ],
      "metadata": {
        "colab": {
          "base_uri": "https://localhost:8080/"
        },
        "id": "tLlPJyeYhoOe",
        "outputId": "6646429b-6c54-43fc-c083-cce01676b19e"
      },
      "execution_count": null,
      "outputs": [
        {
          "output_type": "stream",
          "name": "stdout",
          "text": [
            "[5, 0, 7, 9]\n",
            "['olleh', '', 'eybdoog', 'lufrednow']\n"
          ]
        }
      ]
    },
    {
      "cell_type": "code",
      "source": [
        "for i in range(1,101):\n",
        "  print(\"{0:>4}\".format(i), end= \" \")\n",
        "  if i%10 == 0:\n",
        "    print()"
      ],
      "metadata": {
        "colab": {
          "base_uri": "https://localhost:8080/"
        },
        "id": "DmXfaVNpKswx",
        "outputId": "69aff200-ff4b-4fc9-c287-33fc8f629c9f"
      },
      "execution_count": null,
      "outputs": [
        {
          "output_type": "stream",
          "name": "stdout",
          "text": [
            "   1    2    3    4    5    6    7    8    9   10 \n",
            "  11   12   13   14   15   16   17   18   19   20 \n",
            "  21   22   23   24   25   26   27   28   29   30 \n",
            "  31   32   33   34   35   36   37   38   39   40 \n",
            "  41   42   43   44   45   46   47   48   49   50 \n",
            "  51   52   53   54   55   56   57   58   59   60 \n",
            "  61   62   63   64   65   66   67   68   69   70 \n",
            "  71   72   73   74   75   76   77   78   79   80 \n",
            "  81   82   83   84   85   86   87   88   89   90 \n",
            "  91   92   93   94   95   96   97   98   99  100 \n"
          ]
        }
      ]
    },
    {
      "cell_type": "code",
      "source": [
        "bookshelf = {\"The Book Thief\":\"Markus Zusak\",\"To Kill A Mockingbird\":\"Harper Lee\"}\n",
        "bookshelf[\"Hamlet\"] = \"William Shakespeare\"\n",
        "\n",
        "print(bookshelf)\n",
        "print(bookshelf.get(\"Hamlet\",\"Not in bookshelf.\"))\n",
        "\n",
        "# .get method is the shortcut of the following\n",
        "if \"Hamlet\" in bookshelf:\n",
        "  print(bookshelf[\"Hamlet\"])"
      ],
      "metadata": {
        "colab": {
          "base_uri": "https://localhost:8080/"
        },
        "id": "R0ouewOdNqq0",
        "outputId": "8a439e4e-e61c-4edb-e251-f888eba4b76f"
      },
      "execution_count": null,
      "outputs": [
        {
          "output_type": "stream",
          "name": "stdout",
          "text": [
            "{'The Book Thief': 'Markus Zusak', 'To Kill A Mockingbird': 'Harper Lee', 'Hamlet': 'William Shakespeare'}\n",
            "William Shakespeare\n",
            "William Shakespeare\n"
          ]
        }
      ]
    },
    {
      "cell_type": "code",
      "source": [
        "english_spanish = {\n",
        "    \"hello\":\"hola\",\n",
        "    \"world\":\"mundo\",\n",
        "    \"one\":\"uno\",\n",
        "    \"two\":\"dos\",\n",
        "    \"three\":\"tres\"\n",
        "}\n",
        "input_ = \"Hello World one two three\"\n",
        "input_ = input_.lower()\n",
        "lst = input_.split()\n",
        "output = \"\"\n",
        "for word in lst:\n",
        "  if word in english_spanish:\n",
        "    output += english_spanish.get(word) + \" \"\n",
        "print(output.capitalize())"
      ],
      "metadata": {
        "colab": {
          "base_uri": "https://localhost:8080/"
        },
        "id": "dkmsxl01Weh6",
        "outputId": "4566d45f-1bcc-49a6-b397-1dd5450b6fd0"
      },
      "execution_count": null,
      "outputs": [
        {
          "output_type": "stream",
          "name": "stdout",
          "text": [
            "Hola mundo uno dos tres \n"
          ]
        }
      ]
    },
    {
      "cell_type": "code",
      "source": [
        "import requests\n",
        "from bs4 import BeautifulSoup\n",
        "url = 'https://en.wikipedia.org/wiki/Turtle_graphics'\n",
        "response = requests.get(url)\n",
        "if response.status_code == 200:\n",
        "    soup = BeautifulSoup(response.text, 'html.parser')\n",
        "    page_title = soup.title.text.strip()\n",
        "    print(f\"Page Title: {page_title}\")\n",
        "else:\n",
        "    print(\"Failed to retrieve the webpage\")"
      ],
      "metadata": {
        "id": "YXFL7h2B3kgf",
        "outputId": "286e2377-74ac-4a56-eead-c47932e7a4ea",
        "colab": {
          "base_uri": "https://localhost:8080/"
        }
      },
      "execution_count": null,
      "outputs": [
        {
          "output_type": "stream",
          "name": "stdout",
          "text": [
            "Page Title: Turtle graphics - Wikipedia\n"
          ]
        }
      ]
    },
    {
      "cell_type": "code",
      "source": [
        "capitals = {\n",
        "    \"Moscow\":\"Russia\",\n",
        "    \"UK\":\"London\",\n",
        "    \"France\":\"Paris\",\n",
        "    \"Buenos Aires\":\"Argentina\",\n",
        "    \"Berlin\":\"Germany\",\n",
        "    \"KSA\":\"Riyadh\"\n",
        "}\n",
        "\n",
        "# .item method returns dict pair as a tuple, tuple values can be assigned to multiple variables at once\n",
        "for i, j in capitals.items():\n",
        "  print(f\"{i} is the capital of {j}.\")"
      ],
      "metadata": {
        "colab": {
          "base_uri": "https://localhost:8080/"
        },
        "id": "hWp6dhUyh0Ro",
        "outputId": "1f32a650-0348-42fd-b20c-13586113d8fe"
      },
      "execution_count": null,
      "outputs": [
        {
          "output_type": "stream",
          "name": "stdout",
          "text": [
            "Moscow is the capital of Russia.\n",
            "UK is the capital of London.\n",
            "France is the capital of Paris.\n",
            "Buenos Aires is the capital of Argentina.\n",
            "Berlin is the capital of Germany.\n",
            "KSA is the capital of Riyadh.\n"
          ]
        }
      ]
    },
    {
      "cell_type": "code",
      "source": [
        "with open(\"practice\") as file:\n",
        "  for line in file:\n",
        "    words = line.split()\n",
        "    print(words)\n",
        "    print()\n",
        "    for char in words:\n",
        "      print(char + \" \", end=\"\")\n",
        "      print()\n",
        "    print()"
      ],
      "metadata": {
        "id": "4jQstJCqp0SP",
        "colab": {
          "base_uri": "https://localhost:8080/"
        },
        "outputId": "e0654acd-bccc-47e5-f255-ee2b580a98a4"
      },
      "execution_count": null,
      "outputs": [
        {
          "output_type": "stream",
          "name": "stdout",
          "text": [
            "['Testing', '1,2,3']\n",
            "\n",
            "Testing \n",
            "1,2,3 \n",
            "\n",
            "['Is', 'this', 'working?']\n",
            "\n",
            "Is \n",
            "this \n",
            "working? \n",
            "\n"
          ]
        }
      ]
    },
    {
      "cell_type": "code",
      "source": [
        "ages = [21,28,20,21,19,19,20,21,20,22,26,28]\n",
        "age_dict = {}\n",
        "for age in ages:\n",
        "  if age in age_dict:\n",
        "    age_dict[age] += 1\n",
        "  else:\n",
        "    age_dict[age] = 1\n",
        "print(age_dict)"
      ],
      "metadata": {
        "colab": {
          "base_uri": "https://localhost:8080/"
        },
        "id": "peoribfl6DMh",
        "outputId": "9744cb48-6e90-4e2b-9e55-44d236fe58ae"
      },
      "execution_count": null,
      "outputs": [
        {
          "output_type": "stream",
          "name": "stdout",
          "text": [
            "{21: 3, 28: 2, 20: 3, 19: 2, 22: 1, 26: 1}\n"
          ]
        }
      ]
    },
    {
      "cell_type": "code",
      "source": [
        "grades = {\n",
        "    \"Mcrae\": {\"Test1\":100,\"Test2\":95,\"Midterm\":99},\n",
        "    \"Heidi\": {\"Test1\":89,\"Test2\":85,\"Midterm\":92},\n",
        "    \"Ale\": {\"Test1\":97,\"Test2\":98,\"Midterm\":96}\n",
        "}\n",
        "\n",
        "print(grades[\"Heidi\"][\"Midterm\"])\n",
        "print(grades.get(\"Ale\").get(\"Test1\"))\n",
        "print(grades[\"Mcrae\"])\n",
        "print()\n",
        "\n",
        "teams = [\n",
        "    [\"Darshita\",\"Rosemary\"],\n",
        "    [\"Rush\",\"Alex\"],\n",
        "    [\"Kai\",\"Pratik\"],\n",
        "    \"Abdias\"\n",
        "]\n",
        "\n",
        "print(teams[0][1])\n",
        "print(teams[2])"
      ],
      "metadata": {
        "colab": {
          "base_uri": "https://localhost:8080/"
        },
        "id": "7oIeEzi7XDPA",
        "outputId": "e33c5198-e3f4-40ac-8ad2-d23473291daf"
      },
      "execution_count": null,
      "outputs": [
        {
          "output_type": "stream",
          "name": "stdout",
          "text": [
            "92\n",
            "97\n",
            "{'Test1': 100, 'Test2': 95, 'Midterm': 99}\n",
            "\n",
            "Rosemary\n",
            "['Kai', 'Pratik']\n"
          ]
        }
      ]
    },
    {
      "cell_type": "code",
      "source": [
        "data = {\n",
        "    \"a\":[\"alligator\",\"apple\"],\n",
        "    \"b\":[\"bear\",\"banana\"],\n",
        "    \"c\":[\"cat\",\"cherry\"]\n",
        "}\n",
        "reformatted = {}\n",
        "animals = []\n",
        "for key in data.keys():\n",
        "  animals.append(data[key][0])\n",
        "reformatted[\"animals\"] = animals\n",
        "\n",
        "fruit = []\n",
        "for key in data.keys():\n",
        "  fruit.append(data[key][1])\n",
        "reformatted[\"fruit\"] = fruit\n",
        "\n",
        "print(reformatted)\n"
      ],
      "metadata": {
        "colab": {
          "base_uri": "https://localhost:8080/"
        },
        "id": "KDIF1x-oifVx",
        "outputId": "96cb563d-6184-4219-bbc9-80797aedc86a"
      },
      "execution_count": null,
      "outputs": [
        {
          "output_type": "stream",
          "name": "stdout",
          "text": [
            "{'animals': ['alligator', 'bear', 'cat'], 'fruit': ['apple', 'banana', 'cherry']}\n"
          ]
        }
      ]
    }
  ]
}