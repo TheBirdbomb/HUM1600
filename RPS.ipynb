{
  "nbformat": 4,
  "nbformat_minor": 0,
  "metadata": {
    "colab": {
      "provenance": [],
      "authorship_tag": "ABX9TyPvJxTmLLvLYqtpr7F4Wiu1",
      "include_colab_link": true
    },
    "kernelspec": {
      "name": "python3",
      "display_name": "Python 3"
    },
    "language_info": {
      "name": "python"
    }
  },
  "cells": [
    {
      "cell_type": "markdown",
      "metadata": {
        "id": "view-in-github",
        "colab_type": "text"
      },
      "source": [
        "<a href=\"https://colab.research.google.com/github/TheBirdbomb/HUM1600/blob/main/RPS.ipynb\" target=\"_parent\"><img src=\"https://colab.research.google.com/assets/colab-badge.svg\" alt=\"Open In Colab\"/></a>"
      ]
    },
    {
      "cell_type": "code",
      "execution_count": null,
      "metadata": {
        "id": "yCKkd8CY1HqU"
      },
      "outputs": [],
      "source": [
        "import random\n",
        "import time\n",
        "\n",
        "def rps():\n",
        "  choices = [\"Rock\", \"Paper\", \"Scissors\"]\n",
        "  choice = random.choice(choices)\n",
        "  return choice\n",
        "\n",
        "def win(ai,x):\n",
        "  print(f\"AI {x} wins with {ai}.\")\n",
        "\n",
        "def round():\n",
        "  ai1 = rps()\n",
        "  ai2 = rps()\n",
        "  if ai1 == ai2:\n",
        "    print(f\"Tie with {ai1}.\")\n",
        "    return \"T\"\n",
        "  elif ai1 == \"Rock\" and ai2 == \"Paper\":\n",
        "    win(ai2,2)\n",
        "    return 1\n",
        "  elif ai1 == \"Paper\" and ai2 == \"Rock\":\n",
        "    win(ai1,1)\n",
        "    return 0\n",
        "  elif ai1 == \"Rock\" and ai2 == \"Scissors\":\n",
        "    win(ai1,1)\n",
        "    return 0\n",
        "  elif ai1 == \"Scissors\" and ai2 == \"Rock\":\n",
        "    win(ai2,2)\n",
        "    return 1\n",
        "  elif ai1 == \"Paper\" and ai2 == \"Scissors\":\n",
        "    win(ai2,2)\n",
        "    return 1\n",
        "  else:\n",
        "    win(ai1,1)\n",
        "    return 0\n",
        "\n",
        "score = [0,0]\n",
        "ties = 0\n",
        "while True:\n",
        "  x = round()\n",
        "  if x != \"T\":\n",
        "    score[x] += 1\n",
        "  else:\n",
        "    ties += 1\n",
        "  if score[0] == 5:\n",
        "    print(f\"\\nAI 1 wins the war 5 to {score[1]} with {ties} ties.\")\n",
        "    break\n",
        "  elif score[1] == 5:\n",
        "    print(f\"\\nAI 2 wins the war 5 to {score[0]} with {ties} ties.\")\n",
        "    break\n",
        "  time.sleep(2)"
      ]
    },
    {
      "cell_type": "code",
      "source": [
        "# NOT YET READY, STILL IN DEVELOPMENT\n",
        "\n",
        "import random\n",
        "import time\n",
        "\n",
        "def win(choice,versus):\n",
        "  if choice == versus:\n",
        "    return \"Tie\"\n",
        "  elif choice == \"Rock\" and versus == \"Scissors\" or choice == \"Paper\" and versus == \"Rock\" or choice == \"Scissors\" and versus == \"Paper\"\n",
        "    return \"Win\"\n",
        "  else:\n",
        "    return \"Lose\"\n",
        "\n",
        "def noel(self, opponent):\n",
        "  choices = [\"Rock\",\"Paper\",\"Scissors\"]\n",
        "  if win(self[-1],opponent[-1]) == \"Win\":\n",
        "    choices.append(self[-1])\n",
        "  elif win(self[-1],opponent[-1]) == \"Lose\":\n",
        "    for choice in choices:\n",
        "      if self[-1] != choice:\n",
        "        choices.append(choice)\n",
        "        if len(choice) == 5:\n",
        "          break\n",
        "  return random.choice(choices)\n",
        "\n",
        "def oscar(self, opponent):\n",
        "  choices = [\"Rock\",\"Paper\",\"Scissors\"]\n",
        "  score = [0,0]\n",
        "  for x in range(len(self)):\n",
        "    if win(self[x],opponent[x]) == \"Win\":\n",
        "      score[0] += 1\n",
        "    elif win(self[x],opponent[x]) == \"Lose\":\n",
        "      score[1] += 1\n",
        "  if score[0] < score[1]:\n",
        "    choices.append(\"CHEAT\")\n",
        "  return random.choice(choices)\n",
        "\n",
        "def paul(self, opponent):\n",
        "  choices = [\"Rock\",\"Paper\",\"Scissors\"]\n",
        "  if len(self) == 0:\n",
        "    return random.choice(choices)\n",
        "  else:\n",
        "    choices = []\n",
        "    choices.append(self[-1])\n",
        "    choices.append(opponent[-1])\n",
        "  return random.choice(choices)\n",
        "\n",
        "def quill(self, opponent):\n",
        "  choices = [\"Rock\",\"Paper\",\"Scissors\"]\n",
        "  if self[-1] == opponent[-1]:\n",
        "    choices.remove(self[-1])\n",
        "  return random.choice(choices)\n",
        "\n",
        "def randy():\n",
        "  choices = [\"Rock\",\"Paper\",\"Scissors\"]\n",
        "  return random.choice(choices)\n",
        "\n",
        "def steve(self, opponent):\n",
        "  choices = [\"Rock\",\"Paper\",\"Scissors\"]\n",
        "  if len(self) > 0:\n",
        "    for choice in opponent:\n",
        "      choices.append(choice)\n",
        "  prediction = random.choice(choices)\n",
        "  if prediction == \"Rock\":\n",
        "    return \"Paper\"\n",
        "  elif prediction == \"Paper\":\n",
        "    return \"Scissors\"\n",
        "  else:\n",
        "    return \"Rock\"\n",
        "\n"
      ],
      "metadata": {
        "id": "qVvlRWGso7v4"
      },
      "execution_count": null,
      "outputs": []
    },
    {
      "cell_type": "markdown",
      "source": [
        "Player: Strategy\n",
        "*   Noel: will likely repeat selection if win, unlikely to repeat if lose.\n",
        "*   Oscar: will sometimes cheat when losing, otherwise plays randomly.\n",
        "*   Paul: will start randomly, then repeat either players' last move.\n",
        "*   Quill: never repeats last move when the round was a tie.\n",
        "*   Randy: always picks randomly regardless of what the opponent selects.\n",
        "*   Steve: predict opponent based on number of times opponent selected each option."
      ],
      "metadata": {
        "id": "_L-RUYg11QIl"
      }
    }
  ]
}